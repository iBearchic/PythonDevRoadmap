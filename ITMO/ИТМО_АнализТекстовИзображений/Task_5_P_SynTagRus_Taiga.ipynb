{
  "cells": [
    {
      "cell_type": "markdown",
      "metadata": {
        "id": "885nCnaEi6Zq"
      },
      "source": [
        "В этом задании мы рассмотрим работу UDpipe с двумя моделями:\n",
        "\n",
        "* предварительно обученной на SynTagRus [link](https://universaldependencies.org/treebanks/ru_syntagrus/index.html)\n",
        "* обученной на Taiga [link](https://universaldependencies.org/treebanks/ru_taiga/index.html)"
      ]
    },
    {
      "cell_type": "markdown",
      "metadata": {
        "id": "Xi3sqi2ni6Zw"
      },
      "source": [
        "## Подключение необходимых модулей"
      ]
    },
    {
      "cell_type": "code",
      "execution_count": 1,
      "metadata": {
        "colab": {
          "base_uri": "https://localhost:8080/"
        },
        "id": "pFELL0b6i6Zz",
        "outputId": "d0986278-60e8-4ac1-f2ad-b20f4d1d13f1"
      },
      "outputs": [
        {
          "output_type": "stream",
          "name": "stdout",
          "text": [
            "\u001b[2K     \u001b[90m━━━━━━━━━━━━━━━━━━━━━━━━━━━━━━━━━━━━━━━━\u001b[0m \u001b[32m936.8/936.8 kB\u001b[0m \u001b[31m5.4 MB/s\u001b[0m eta \u001b[36m0:00:00\u001b[0m\n",
            "\u001b[?25h"
          ]
        }
      ],
      "source": [
        "! pip install -q conllu\n",
        "! pip install -q graphviz\n",
        "! pip install -q ufal.udpipe"
      ]
    },
    {
      "cell_type": "markdown",
      "metadata": {
        "id": "-w82dt3Ki6aJ"
      },
      "source": [
        "## Загрузка моделей"
      ]
    },
    {
      "cell_type": "code",
      "execution_count": 2,
      "metadata": {
        "id": "kDboaNgQi6aK"
      },
      "outputs": [],
      "source": [
        "!wget -q 'https://lindat.mff.cuni.cz/repository/xmlui/bitstream/handle/11234/1-3131/russian-syntagrus-ud-2.5-191206.udpipe'\n",
        "!wget -q 'https://lindat.mff.cuni.cz/repository/xmlui/bitstream/handle/11234/1-3131/russian-taiga-ud-2.5-191206.udpipe'"
      ]
    },
    {
      "cell_type": "markdown",
      "metadata": {
        "id": "05htpbLZi6as"
      },
      "source": [
        "На этом подготовка материалов завершена, переходим к написанию кода для синтаксического анализа"
      ]
    },
    {
      "cell_type": "markdown",
      "metadata": {
        "id": "4RfK9-zii6aw"
      },
      "source": [
        "## Подключение библиотек"
      ]
    },
    {
      "cell_type": "code",
      "execution_count": 3,
      "metadata": {
        "id": "dmf7LI_0i6ax"
      },
      "outputs": [],
      "source": [
        "import sys\n",
        "\n",
        "from conllu import parse\n",
        "from graphviz import Digraph\n",
        "from ufal.udpipe import Model, Pipeline, ProcessingError"
      ]
    },
    {
      "cell_type": "markdown",
      "metadata": {
        "id": "ufl9Rvugi6a3"
      },
      "source": [
        "## Настройка работы с моделями"
      ]
    },
    {
      "cell_type": "code",
      "execution_count": 4,
      "metadata": {
        "colab": {
          "base_uri": "https://localhost:8080/"
        },
        "id": "Rj7bbVu4i6a4",
        "outputId": "7a7fbad5-75a3-4f58-8ceb-3bd350b71e95"
      },
      "outputs": [
        {
          "output_type": "stream",
          "name": "stdout",
          "text": [
            "Loading model:russian-syntagrus-ud-2.5-191206.udpipe\n",
            "Loading done\n",
            "Loading model:russian-taiga-ud-2.5-191206.udpipe\n",
            "Loading done\n"
          ]
        }
      ],
      "source": [
        "INPUT_FORMAT = \"tokenize\"\n",
        "OUTPUT_FORMAT = \"conllu\"\n",
        "SYNTAGRUS_MODEL_FILE = \"russian-syntagrus-ud-2.5-191206.udpipe\"\n",
        "TAIGA_MODEL_FILE = \"russian-taiga-ud-2.5-191206.udpipe\"\n",
        "\n",
        "print(\"Loading model:\" + SYNTAGRUS_MODEL_FILE)\n",
        "syntagrus_model = Model.load(SYNTAGRUS_MODEL_FILE)\n",
        "print(\"Loading done\")\n",
        "\n",
        "print(\"Loading model:\" + TAIGA_MODEL_FILE)\n",
        "taiga_model = Model.load(TAIGA_MODEL_FILE)\n",
        "print(\"Loading done\")"
      ]
    },
    {
      "cell_type": "markdown",
      "metadata": {
        "id": "eFV0w_Xmi6bA"
      },
      "source": [
        "## Построение цепочки обработки"
      ]
    },
    {
      "cell_type": "markdown",
      "metadata": {
        "id": "201ztaiki6bB"
      },
      "source": [
        "Строим цепочку обработки  -- от сырого текста до синтаксического дерева"
      ]
    },
    {
      "cell_type": "code",
      "execution_count": 5,
      "metadata": {
        "id": "NQxfMF_3i6bC"
      },
      "outputs": [],
      "source": [
        "syntagrus_pipeline = Pipeline(syntagrus_model, INPUT_FORMAT,\n",
        "                              Pipeline.DEFAULT, Pipeline.DEFAULT, OUTPUT_FORMAT)\n",
        "taiga_pipeline = Pipeline(taiga_model, INPUT_FORMAT,\n",
        "                          Pipeline.DEFAULT, Pipeline.DEFAULT, OUTPUT_FORMAT)\n",
        "\n",
        "error = ProcessingError()"
      ]
    },
    {
      "cell_type": "markdown",
      "metadata": {
        "id": "4rmXlR1ei6bI"
      },
      "source": [
        "Применение собственно цепочки обработки к сырому тексту; вывод в формате CoNLL-U."
      ]
    },
    {
      "cell_type": "code",
      "execution_count": 6,
      "metadata": {
        "id": "MJedzauNi6bJ"
      },
      "outputs": [],
      "source": [
        "def parse_syntax(raw_text, pipeline):\n",
        "    \"\"\" Applying UDPipe \"\"\"\n",
        "    text = raw_text.strip()\n",
        "\n",
        "    # Process data\n",
        "    processed = pipeline.process(text, error)\n",
        "\n",
        "    if error.occurred():\n",
        "        sys.stderr.write(\"An error occurred when running run_udpipe: \")\n",
        "        sys.stderr.write(error.message)\n",
        "        sys.stderr.write(\"\\n\")\n",
        "\n",
        "    return processed"
      ]
    },
    {
      "cell_type": "markdown",
      "metadata": {
        "id": "CHD7DOp3i6bP"
      },
      "source": [
        "Создадим два разбора, которые и будем сравнивать."
      ]
    },
    {
      "cell_type": "code",
      "execution_count": 25,
      "metadata": {
        "id": "svFDIXCli6bS"
      },
      "outputs": [],
      "source": [
        "syntag = parse_syntax(\"Внучка — ренегатка-наследница — совсем неубедительный персонаж.\", syntagrus_pipeline)\n",
        "taiga = parse_syntax(\"Внучка — ренегатка-наследница — совсем неубедительный персонаж.\", taiga_pipeline)"
      ]
    },
    {
      "cell_type": "markdown",
      "metadata": {
        "id": "9JqN3OWvqbuV"
      },
      "source": [
        "Разбор предложения в текстовом виде будет выглядеть следующим образом:"
      ]
    },
    {
      "cell_type": "code",
      "execution_count": 26,
      "metadata": {
        "colab": {
          "base_uri": "https://localhost:8080/"
        },
        "id": "IciMoyh0qbuW",
        "outputId": "61641af3-8b79-49d4-9600-b2a44df8e2d7"
      },
      "outputs": [
        {
          "output_type": "stream",
          "name": "stdout",
          "text": [
            "# newdoc\n",
            "# newpar\n",
            "# sent_id = 1\n",
            "# text = Внучка — ренегатка-наследница — совсем неубедительный персонаж.\n",
            "1\tВнучка\tВнучка\tNOUN\t_\tAnimacy=Inan|Case=Nom|Gender=Fem|Number=Sing\t3\tnsubj\t_\t_\n",
            "2\t—\t—\tPUNCT\t_\t_\t3\tpunct\t_\t_\n",
            "3\tренегатка\tренегатка\tNOUN\t_\tAnimacy=Inan|Case=Nom|Gender=Fem|Number=Sing\t0\troot\t_\tSpaceAfter=No\n",
            "4\t-\t-\tPUNCT\t_\t_\t5\tpunct\t_\tSpaceAfter=No\n",
            "5\tнаследница\tнаследница\tNOUN\t_\tAnimacy=Inan|Case=Nom|Gender=Fem|Number=Sing\t3\tappos\t_\t_\n",
            "6\t—\t—\tPUNCT\t_\t_\t9\tpunct\t_\t_\n",
            "7\tсовсем\tсовсем\tADV\t_\tDegree=Pos\t8\tadvmod\t_\t_\n",
            "8\tнеубедительный\tнеубедительный\tADJ\t_\tCase=Nom|Degree=Pos|Gender=Masc|Number=Sing\t9\tamod\t_\t_\n",
            "9\tперсонаж\tперсонаж\tNOUN\t_\tAnimacy=Inan|Case=Nom|Gender=Masc|Number=Sing\t3\tparataxis\t_\tSpaceAfter=No\n",
            "10\t.\t.\tPUNCT\t_\t_\t3\tpunct\t_\tSpacesAfter=\\n\n",
            "\n",
            "\n"
          ]
        }
      ],
      "source": [
        "print(taiga)"
      ]
    },
    {
      "cell_type": "markdown",
      "metadata": {
        "id": "jYKnnwqVqbuZ"
      },
      "source": [
        "Понятно, что в таком виде производить расчеты не очень удобно. Для вычисления LAS и UAS сначала представим деревья разбора в виде графов."
      ]
    },
    {
      "cell_type": "markdown",
      "metadata": {
        "id": "LGkqQEi1qbua"
      },
      "source": [
        "## Графововое представление дерева разбора\n",
        "\n",
        "Методами библиотеки `conllu` превращаем выданный нам udpipe разбор в формате CoNLL-U в дерево, с которым удобно работать.\n",
        "\n",
        "С помощью стандартного обхода в ширину наполняем рёбрами объект Digraph для последующей визуализации дерева с помощью `graphviz`."
      ]
    },
    {
      "cell_type": "code",
      "execution_count": 27,
      "metadata": {
        "id": "jQ6zzoRni6bo"
      },
      "outputs": [],
      "source": [
        "from conllu import parse\n",
        "from graphviz import Digraph\n",
        "\n",
        "def parse_output(conll):\n",
        "    \"\"\"\n",
        "        Preparing the dependency tree for further processing\n",
        "    \"\"\"\n",
        "    sentences = parse(conll)\n",
        "    return [s.to_tree() for s  in sentences]\n",
        "\n",
        "\n",
        "class Root(object):\n",
        "  def __init__(self, child):\n",
        "    self.token = {\"form\": \"\", \"id\": 0, \"deprel\": \"root\"}\n",
        "    self.children = [child]\n",
        "\n",
        "def draw_tree(tree):\n",
        "    \"\"\" Drawing a dependency tree for debugging stuff \"\"\"\n",
        "\n",
        "    g = Digraph(format='png')\n",
        "\n",
        "    # a queue for tree traversal\n",
        "    queue = [Root(tree)]\n",
        "\n",
        "    while len(queue) > 0:\n",
        "\n",
        "        head = queue.pop()\n",
        "        head_label = head.token[\"form\"] + \" (%d)\" % head.token[\"id\"]\n",
        "        queue.extend(head.children)\n",
        "\n",
        "        for c in head.children:\n",
        "            c_label = c.token[\"form\"] + \" (%d)\" %  c.token[\"id\"]\n",
        "            g.edge(head_label, c_label, label=c.token[\"deprel\"])\n",
        "\n",
        "    return g"
      ]
    },
    {
      "cell_type": "markdown",
      "metadata": {
        "id": "PGp5oQbUi6cQ"
      },
      "source": [
        "Построим оба дерева"
      ]
    },
    {
      "cell_type": "code",
      "execution_count": 28,
      "metadata": {
        "id": "woGZyXqCqbuf"
      },
      "outputs": [],
      "source": [
        "str_tree = parse_output(syntag.strip())[0]\n",
        "taiga_tree = parse_output(taiga.strip())[0]"
      ]
    },
    {
      "cell_type": "code",
      "execution_count": 29,
      "metadata": {
        "colab": {
          "base_uri": "https://localhost:8080/",
          "height": 544
        },
        "id": "ICivSE4eqbuh",
        "outputId": "b1b94e19-a04a-4c2f-ea1b-c607372780d1"
      },
      "outputs": [
        {
          "output_type": "execute_result",
          "data": {
            "image/svg+xml": "<?xml version=\"1.0\" encoding=\"UTF-8\" standalone=\"no\"?>\n<!DOCTYPE svg PUBLIC \"-//W3C//DTD SVG 1.1//EN\"\n \"http://www.w3.org/Graphics/SVG/1.1/DTD/svg11.dtd\">\n<!-- Generated by graphviz version 2.43.0 (0)\n -->\n<!-- Title: %3 Pages: 1 -->\n<svg width=\"511pt\" height=\"392pt\"\n viewBox=\"0.00 0.00 511.04 392.00\" xmlns=\"http://www.w3.org/2000/svg\" xmlns:xlink=\"http://www.w3.org/1999/xlink\">\n<g id=\"graph0\" class=\"graph\" transform=\"scale(1 1) rotate(0) translate(4 388)\">\n<title>%3</title>\n<polygon fill=\"white\" stroke=\"transparent\" points=\"-4,4 -4,-388 507.04,-388 507.04,4 -4,4\"/>\n<!--  (0) -->\n<g id=\"node1\" class=\"node\">\n<title> (0)</title>\n<ellipse fill=\"none\" stroke=\"black\" cx=\"254.5\" cy=\"-366\" rx=\"27\" ry=\"18\"/>\n<text text-anchor=\"middle\" x=\"254.5\" y=\"-362.3\" font-family=\"Times,serif\" font-size=\"14.00\"> (0)</text>\n</g>\n<!-- Внучка (1) -->\n<g id=\"node2\" class=\"node\">\n<title>Внучка (1)</title>\n<ellipse fill=\"none\" stroke=\"black\" cx=\"254.5\" cy=\"-279\" rx=\"51.19\" ry=\"18\"/>\n<text text-anchor=\"middle\" x=\"254.5\" y=\"-275.3\" font-family=\"Times,serif\" font-size=\"14.00\">Внучка (1)</text>\n</g>\n<!--  (0)&#45;&gt;Внучка (1) -->\n<g id=\"edge1\" class=\"edge\">\n<title> (0)&#45;&gt;Внучка (1)</title>\n<path fill=\"none\" stroke=\"black\" d=\"M254.5,-347.8C254.5,-336.16 254.5,-320.55 254.5,-307.24\"/>\n<polygon fill=\"black\" stroke=\"black\" points=\"258,-307.18 254.5,-297.18 251,-307.18 258,-307.18\"/>\n<text text-anchor=\"middle\" x=\"265.5\" y=\"-318.8\" font-family=\"Times,serif\" font-size=\"14.00\">root</text>\n</g>\n<!-- — (2) -->\n<g id=\"node3\" class=\"node\">\n<title>— (2)</title>\n<ellipse fill=\"none\" stroke=\"black\" cx=\"32.5\" cy=\"-192\" rx=\"32.49\" ry=\"18\"/>\n<text text-anchor=\"middle\" x=\"32.5\" y=\"-188.3\" font-family=\"Times,serif\" font-size=\"14.00\">— (2)</text>\n</g>\n<!-- Внучка (1)&#45;&gt;— (2) -->\n<g id=\"edge2\" class=\"edge\">\n<title>Внучка (1)&#45;&gt;— (2)</title>\n<path fill=\"none\" stroke=\"black\" d=\"M219.38,-265.63C200.91,-259.05 177.92,-250.74 157.5,-243 120.38,-228.93 111.34,-224.78 74.5,-210 72.28,-209.11 70,-208.19 67.7,-207.27\"/>\n<polygon fill=\"black\" stroke=\"black\" points=\"68.84,-203.95 58.25,-203.45 66.22,-210.44 68.84,-203.95\"/>\n<text text-anchor=\"middle\" x=\"173\" y=\"-231.8\" font-family=\"Times,serif\" font-size=\"14.00\">punct</text>\n</g>\n<!-- ренегатка (3) -->\n<g id=\"node4\" class=\"node\">\n<title>ренегатка (3)</title>\n<ellipse fill=\"none\" stroke=\"black\" cx=\"143.5\" cy=\"-192\" rx=\"60.39\" ry=\"18\"/>\n<text text-anchor=\"middle\" x=\"143.5\" y=\"-188.3\" font-family=\"Times,serif\" font-size=\"14.00\">ренегатка (3)</text>\n</g>\n<!-- Внучка (1)&#45;&gt;ренегатка (3) -->\n<g id=\"edge3\" class=\"edge\">\n<title>Внучка (1)&#45;&gt;ренегатка (3)</title>\n<path fill=\"none\" stroke=\"black\" d=\"M234.14,-262.41C216.91,-249.22 192.01,-230.15 172.66,-215.33\"/>\n<polygon fill=\"black\" stroke=\"black\" points=\"174.55,-212.37 164.48,-209.07 170.29,-217.93 174.55,-212.37\"/>\n<text text-anchor=\"middle\" x=\"222.5\" y=\"-231.8\" font-family=\"Times,serif\" font-size=\"14.00\">appos</text>\n</g>\n<!-- — (6) -->\n<g id=\"node5\" class=\"node\">\n<title>— (6)</title>\n<ellipse fill=\"none\" stroke=\"black\" cx=\"254.5\" cy=\"-192\" rx=\"32.49\" ry=\"18\"/>\n<text text-anchor=\"middle\" x=\"254.5\" y=\"-188.3\" font-family=\"Times,serif\" font-size=\"14.00\">— (6)</text>\n</g>\n<!-- Внучка (1)&#45;&gt;— (6) -->\n<g id=\"edge4\" class=\"edge\">\n<title>Внучка (1)&#45;&gt;— (6)</title>\n<path fill=\"none\" stroke=\"black\" d=\"M254.5,-260.8C254.5,-249.16 254.5,-233.55 254.5,-220.24\"/>\n<polygon fill=\"black\" stroke=\"black\" points=\"258,-220.18 254.5,-210.18 251,-220.18 258,-220.18\"/>\n<text text-anchor=\"middle\" x=\"270\" y=\"-231.8\" font-family=\"Times,serif\" font-size=\"14.00\">punct</text>\n</g>\n<!-- персонаж (9) -->\n<g id=\"node6\" class=\"node\">\n<title>персонаж (9)</title>\n<ellipse fill=\"none\" stroke=\"black\" cx=\"364.5\" cy=\"-192\" rx=\"59.59\" ry=\"18\"/>\n<text text-anchor=\"middle\" x=\"364.5\" y=\"-188.3\" font-family=\"Times,serif\" font-size=\"14.00\">персонаж (9)</text>\n</g>\n<!-- Внучка (1)&#45;&gt;персонаж (9) -->\n<g id=\"edge5\" class=\"edge\">\n<title>Внучка (1)&#45;&gt;персонаж (9)</title>\n<path fill=\"none\" stroke=\"black\" d=\"M274.67,-262.41C291.75,-249.22 316.42,-230.15 335.6,-215.33\"/>\n<polygon fill=\"black\" stroke=\"black\" points=\"337.93,-217.95 343.7,-209.07 333.65,-212.41 337.93,-217.95\"/>\n<text text-anchor=\"middle\" x=\"331.5\" y=\"-231.8\" font-family=\"Times,serif\" font-size=\"14.00\">nsubj</text>\n</g>\n<!-- . (10) -->\n<g id=\"node7\" class=\"node\">\n<title>. (10)</title>\n<ellipse fill=\"none\" stroke=\"black\" cx=\"472.5\" cy=\"-192\" rx=\"30.59\" ry=\"18\"/>\n<text text-anchor=\"middle\" x=\"472.5\" y=\"-188.3\" font-family=\"Times,serif\" font-size=\"14.00\">. (10)</text>\n</g>\n<!-- Внучка (1)&#45;&gt;. (10) -->\n<g id=\"edge6\" class=\"edge\">\n<title>Внучка (1)&#45;&gt;. (10)</title>\n<path fill=\"none\" stroke=\"black\" d=\"M289.25,-265.6C307.52,-259.02 330.27,-250.71 350.5,-243 387.59,-228.87 396.85,-225.27 433.5,-210 435.34,-209.23 437.22,-208.44 439.13,-207.63\"/>\n<polygon fill=\"black\" stroke=\"black\" points=\"440.82,-210.71 448.62,-203.55 438.06,-204.28 440.82,-210.71\"/>\n<text text-anchor=\"middle\" x=\"405\" y=\"-231.8\" font-family=\"Times,serif\" font-size=\"14.00\">punct</text>\n</g>\n<!-- наследница (5) -->\n<g id=\"node10\" class=\"node\">\n<title>наследница (5)</title>\n<ellipse fill=\"none\" stroke=\"black\" cx=\"143.5\" cy=\"-105\" rx=\"67.69\" ry=\"18\"/>\n<text text-anchor=\"middle\" x=\"143.5\" y=\"-101.3\" font-family=\"Times,serif\" font-size=\"14.00\">наследница (5)</text>\n</g>\n<!-- ренегатка (3)&#45;&gt;наследница (5) -->\n<g id=\"edge9\" class=\"edge\">\n<title>ренегатка (3)&#45;&gt;наследница (5)</title>\n<path fill=\"none\" stroke=\"black\" d=\"M143.5,-173.8C143.5,-162.16 143.5,-146.55 143.5,-133.24\"/>\n<polygon fill=\"black\" stroke=\"black\" points=\"147,-133.18 143.5,-123.18 140,-133.18 147,-133.18\"/>\n<text text-anchor=\"middle\" x=\"159.5\" y=\"-144.8\" font-family=\"Times,serif\" font-size=\"14.00\">appos</text>\n</g>\n<!-- неубедительный (8) -->\n<g id=\"node8\" class=\"node\">\n<title>неубедительный (8)</title>\n<ellipse fill=\"none\" stroke=\"black\" cx=\"364.5\" cy=\"-105\" rx=\"87.18\" ry=\"18\"/>\n<text text-anchor=\"middle\" x=\"364.5\" y=\"-101.3\" font-family=\"Times,serif\" font-size=\"14.00\">неубедительный (8)</text>\n</g>\n<!-- персонаж (9)&#45;&gt;неубедительный (8) -->\n<g id=\"edge7\" class=\"edge\">\n<title>персонаж (9)&#45;&gt;неубедительный (8)</title>\n<path fill=\"none\" stroke=\"black\" d=\"M364.5,-173.8C364.5,-162.16 364.5,-146.55 364.5,-133.24\"/>\n<polygon fill=\"black\" stroke=\"black\" points=\"368,-133.18 364.5,-123.18 361,-133.18 368,-133.18\"/>\n<text text-anchor=\"middle\" x=\"380\" y=\"-144.8\" font-family=\"Times,serif\" font-size=\"14.00\">amod</text>\n</g>\n<!-- совсем (7) -->\n<g id=\"node9\" class=\"node\">\n<title>совсем (7)</title>\n<ellipse fill=\"none\" stroke=\"black\" cx=\"364.5\" cy=\"-18\" rx=\"50.09\" ry=\"18\"/>\n<text text-anchor=\"middle\" x=\"364.5\" y=\"-14.3\" font-family=\"Times,serif\" font-size=\"14.00\">совсем (7)</text>\n</g>\n<!-- неубедительный (8)&#45;&gt;совсем (7) -->\n<g id=\"edge8\" class=\"edge\">\n<title>неубедительный (8)&#45;&gt;совсем (7)</title>\n<path fill=\"none\" stroke=\"black\" d=\"M364.5,-86.8C364.5,-75.16 364.5,-59.55 364.5,-46.24\"/>\n<polygon fill=\"black\" stroke=\"black\" points=\"368,-46.18 364.5,-36.18 361,-46.18 368,-46.18\"/>\n<text text-anchor=\"middle\" x=\"373.5\" y=\"-57.8\" font-family=\"Times,serif\" font-size=\"14.00\">obl</text>\n</g>\n<!-- &#45; (4) -->\n<g id=\"node11\" class=\"node\">\n<title>&#45; (4)</title>\n<ellipse fill=\"none\" stroke=\"black\" cx=\"143.5\" cy=\"-18\" rx=\"27\" ry=\"18\"/>\n<text text-anchor=\"middle\" x=\"143.5\" y=\"-14.3\" font-family=\"Times,serif\" font-size=\"14.00\">&#45; (4)</text>\n</g>\n<!-- наследница (5)&#45;&gt;&#45; (4) -->\n<g id=\"edge10\" class=\"edge\">\n<title>наследница (5)&#45;&gt;&#45; (4)</title>\n<path fill=\"none\" stroke=\"black\" d=\"M143.5,-86.8C143.5,-75.16 143.5,-59.55 143.5,-46.24\"/>\n<polygon fill=\"black\" stroke=\"black\" points=\"147,-46.18 143.5,-36.18 140,-46.18 147,-46.18\"/>\n<text text-anchor=\"middle\" x=\"159\" y=\"-57.8\" font-family=\"Times,serif\" font-size=\"14.00\">punct</text>\n</g>\n</g>\n</svg>\n",
            "text/plain": [
              "<graphviz.graphs.Digraph at 0x7c54dc08f640>"
            ]
          },
          "metadata": {},
          "execution_count": 29
        }
      ],
      "source": [
        "draw_tree(str_tree)"
      ]
    },
    {
      "cell_type": "code",
      "execution_count": 30,
      "metadata": {
        "colab": {
          "base_uri": "https://localhost:8080/",
          "height": 544
        },
        "id": "a_8Oxw6Bqbuj",
        "outputId": "53581d17-a0a9-47ce-a855-999fcdda0cf2"
      },
      "outputs": [
        {
          "output_type": "execute_result",
          "data": {
            "image/svg+xml": "<?xml version=\"1.0\" encoding=\"UTF-8\" standalone=\"no\"?>\n<!DOCTYPE svg PUBLIC \"-//W3C//DTD SVG 1.1//EN\"\n \"http://www.w3.org/Graphics/SVG/1.1/DTD/svg11.dtd\">\n<!-- Generated by graphviz version 2.43.0 (0)\n -->\n<!-- Title: %3 Pages: 1 -->\n<svg width=\"588pt\" height=\"392pt\"\n viewBox=\"0.00 0.00 588.44 392.00\" xmlns=\"http://www.w3.org/2000/svg\" xmlns:xlink=\"http://www.w3.org/1999/xlink\">\n<g id=\"graph0\" class=\"graph\" transform=\"scale(1 1) rotate(0) translate(4 388)\">\n<title>%3</title>\n<polygon fill=\"white\" stroke=\"transparent\" points=\"-4,4 -4,-388 584.44,-388 584.44,4 -4,4\"/>\n<!--  (0) -->\n<g id=\"node1\" class=\"node\">\n<title> (0)</title>\n<ellipse fill=\"none\" stroke=\"black\" cx=\"271.35\" cy=\"-366\" rx=\"27\" ry=\"18\"/>\n<text text-anchor=\"middle\" x=\"271.35\" y=\"-362.3\" font-family=\"Times,serif\" font-size=\"14.00\"> (0)</text>\n</g>\n<!-- ренегатка (3) -->\n<g id=\"node2\" class=\"node\">\n<title>ренегатка (3)</title>\n<ellipse fill=\"none\" stroke=\"black\" cx=\"271.35\" cy=\"-279\" rx=\"60.39\" ry=\"18\"/>\n<text text-anchor=\"middle\" x=\"271.35\" y=\"-275.3\" font-family=\"Times,serif\" font-size=\"14.00\">ренегатка (3)</text>\n</g>\n<!--  (0)&#45;&gt;ренегатка (3) -->\n<g id=\"edge1\" class=\"edge\">\n<title> (0)&#45;&gt;ренегатка (3)</title>\n<path fill=\"none\" stroke=\"black\" d=\"M271.35,-347.8C271.35,-336.16 271.35,-320.55 271.35,-307.24\"/>\n<polygon fill=\"black\" stroke=\"black\" points=\"274.85,-307.18 271.35,-297.18 267.85,-307.18 274.85,-307.18\"/>\n<text text-anchor=\"middle\" x=\"282.35\" y=\"-318.8\" font-family=\"Times,serif\" font-size=\"14.00\">root</text>\n</g>\n<!-- Внучка (1) -->\n<g id=\"node3\" class=\"node\">\n<title>Внучка (1)</title>\n<ellipse fill=\"none\" stroke=\"black\" cx=\"51.35\" cy=\"-192\" rx=\"51.19\" ry=\"18\"/>\n<text text-anchor=\"middle\" x=\"51.35\" y=\"-188.3\" font-family=\"Times,serif\" font-size=\"14.00\">Внучка (1)</text>\n</g>\n<!-- ренегатка (3)&#45;&gt;Внучка (1) -->\n<g id=\"edge2\" class=\"edge\">\n<title>ренегатка (3)&#45;&gt;Внучка (1)</title>\n<path fill=\"none\" stroke=\"black\" d=\"M232.69,-265.06C214.06,-258.67 191.44,-250.7 171.35,-243 144.6,-232.76 114.89,-220.39 91.73,-210.51\"/>\n<polygon fill=\"black\" stroke=\"black\" points=\"92.8,-207.16 82.23,-206.45 90.04,-213.6 92.8,-207.16\"/>\n<text text-anchor=\"middle\" x=\"186.35\" y=\"-231.8\" font-family=\"Times,serif\" font-size=\"14.00\">nsubj</text>\n</g>\n<!-- — (2) -->\n<g id=\"node4\" class=\"node\">\n<title>— (2)</title>\n<ellipse fill=\"none\" stroke=\"black\" cx=\"153.35\" cy=\"-192\" rx=\"32.49\" ry=\"18\"/>\n<text text-anchor=\"middle\" x=\"153.35\" y=\"-188.3\" font-family=\"Times,serif\" font-size=\"14.00\">— (2)</text>\n</g>\n<!-- ренегатка (3)&#45;&gt;— (2) -->\n<g id=\"edge3\" class=\"edge\">\n<title>ренегатка (3)&#45;&gt;— (2)</title>\n<path fill=\"none\" stroke=\"black\" d=\"M249.43,-262.21C229.98,-248.2 201.49,-227.68 180.58,-212.62\"/>\n<polygon fill=\"black\" stroke=\"black\" points=\"182.58,-209.74 172.42,-206.74 178.49,-215.42 182.58,-209.74\"/>\n<text text-anchor=\"middle\" x=\"235.85\" y=\"-231.8\" font-family=\"Times,serif\" font-size=\"14.00\">punct</text>\n</g>\n<!-- наследница (5) -->\n<g id=\"node5\" class=\"node\">\n<title>наследница (5)</title>\n<ellipse fill=\"none\" stroke=\"black\" cx=\"271.35\" cy=\"-192\" rx=\"67.69\" ry=\"18\"/>\n<text text-anchor=\"middle\" x=\"271.35\" y=\"-188.3\" font-family=\"Times,serif\" font-size=\"14.00\">наследница (5)</text>\n</g>\n<!-- ренегатка (3)&#45;&gt;наследница (5) -->\n<g id=\"edge4\" class=\"edge\">\n<title>ренегатка (3)&#45;&gt;наследница (5)</title>\n<path fill=\"none\" stroke=\"black\" d=\"M271.35,-260.8C271.35,-249.16 271.35,-233.55 271.35,-220.24\"/>\n<polygon fill=\"black\" stroke=\"black\" points=\"274.85,-220.18 271.35,-210.18 267.85,-220.18 274.85,-220.18\"/>\n<text text-anchor=\"middle\" x=\"287.35\" y=\"-231.8\" font-family=\"Times,serif\" font-size=\"14.00\">appos</text>\n</g>\n<!-- персонаж (9) -->\n<g id=\"node6\" class=\"node\">\n<title>персонаж (9)</title>\n<ellipse fill=\"none\" stroke=\"black\" cx=\"416.35\" cy=\"-192\" rx=\"59.59\" ry=\"18\"/>\n<text text-anchor=\"middle\" x=\"416.35\" y=\"-188.3\" font-family=\"Times,serif\" font-size=\"14.00\">персонаж (9)</text>\n</g>\n<!-- ренегатка (3)&#45;&gt;персонаж (9) -->\n<g id=\"edge5\" class=\"edge\">\n<title>ренегатка (3)&#45;&gt;персонаж (9)</title>\n<path fill=\"none\" stroke=\"black\" d=\"M297.6,-262.61C321.11,-248.83 355.75,-228.52 381.56,-213.39\"/>\n<polygon fill=\"black\" stroke=\"black\" points=\"383.43,-216.36 390.28,-208.28 379.89,-210.32 383.43,-216.36\"/>\n<text text-anchor=\"middle\" x=\"377.85\" y=\"-231.8\" font-family=\"Times,serif\" font-size=\"14.00\">parataxis</text>\n</g>\n<!-- . (10) -->\n<g id=\"node7\" class=\"node\">\n<title>. (10)</title>\n<ellipse fill=\"none\" stroke=\"black\" cx=\"524.35\" cy=\"-192\" rx=\"30.59\" ry=\"18\"/>\n<text text-anchor=\"middle\" x=\"524.35\" y=\"-188.3\" font-family=\"Times,serif\" font-size=\"14.00\">. (10)</text>\n</g>\n<!-- ренегатка (3)&#45;&gt;. (10) -->\n<g id=\"edge6\" class=\"edge\">\n<title>ренегатка (3)&#45;&gt;. (10)</title>\n<path fill=\"none\" stroke=\"black\" d=\"M318.37,-267.54C344.54,-261.29 377.55,-252.69 406.35,-243 442.41,-230.86 450.35,-224.94 485.35,-210 487.18,-209.22 489.06,-208.41 490.96,-207.59\"/>\n<polygon fill=\"black\" stroke=\"black\" points=\"492.66,-210.67 500.45,-203.49 489.88,-204.25 492.66,-210.67\"/>\n<text text-anchor=\"middle\" x=\"460.85\" y=\"-231.8\" font-family=\"Times,serif\" font-size=\"14.00\">punct</text>\n</g>\n<!-- &#45; (4) -->\n<g id=\"node11\" class=\"node\">\n<title>&#45; (4)</title>\n<ellipse fill=\"none\" stroke=\"black\" cx=\"271.35\" cy=\"-105\" rx=\"27\" ry=\"18\"/>\n<text text-anchor=\"middle\" x=\"271.35\" y=\"-101.3\" font-family=\"Times,serif\" font-size=\"14.00\">&#45; (4)</text>\n</g>\n<!-- наследница (5)&#45;&gt;&#45; (4) -->\n<g id=\"edge10\" class=\"edge\">\n<title>наследница (5)&#45;&gt;&#45; (4)</title>\n<path fill=\"none\" stroke=\"black\" d=\"M271.35,-173.8C271.35,-162.16 271.35,-146.55 271.35,-133.24\"/>\n<polygon fill=\"black\" stroke=\"black\" points=\"274.85,-133.18 271.35,-123.18 267.85,-133.18 274.85,-133.18\"/>\n<text text-anchor=\"middle\" x=\"286.85\" y=\"-144.8\" font-family=\"Times,serif\" font-size=\"14.00\">punct</text>\n</g>\n<!-- — (6) -->\n<g id=\"node8\" class=\"node\">\n<title>— (6)</title>\n<ellipse fill=\"none\" stroke=\"black\" cx=\"355.35\" cy=\"-105\" rx=\"32.49\" ry=\"18\"/>\n<text text-anchor=\"middle\" x=\"355.35\" y=\"-101.3\" font-family=\"Times,serif\" font-size=\"14.00\">— (6)</text>\n</g>\n<!-- персонаж (9)&#45;&gt;— (6) -->\n<g id=\"edge7\" class=\"edge\">\n<title>персонаж (9)&#45;&gt;— (6)</title>\n<path fill=\"none\" stroke=\"black\" d=\"M404.29,-174.21C395.27,-161.63 382.78,-144.23 372.68,-130.16\"/>\n<polygon fill=\"black\" stroke=\"black\" points=\"375.43,-127.98 366.75,-121.9 369.74,-132.06 375.43,-127.98\"/>\n<text text-anchor=\"middle\" x=\"405.85\" y=\"-144.8\" font-family=\"Times,serif\" font-size=\"14.00\">punct</text>\n</g>\n<!-- неубедительный (8) -->\n<g id=\"node9\" class=\"node\">\n<title>неубедительный (8)</title>\n<ellipse fill=\"none\" stroke=\"black\" cx=\"493.35\" cy=\"-105\" rx=\"87.18\" ry=\"18\"/>\n<text text-anchor=\"middle\" x=\"493.35\" y=\"-101.3\" font-family=\"Times,serif\" font-size=\"14.00\">неубедительный (8)</text>\n</g>\n<!-- персонаж (9)&#45;&gt;неубедительный (8) -->\n<g id=\"edge8\" class=\"edge\">\n<title>персонаж (9)&#45;&gt;неубедительный (8)</title>\n<path fill=\"none\" stroke=\"black\" d=\"M431.56,-174.21C442.95,-161.63 458.69,-144.25 471.44,-130.18\"/>\n<polygon fill=\"black\" stroke=\"black\" points=\"474.04,-132.52 478.16,-122.76 468.86,-127.82 474.04,-132.52\"/>\n<text text-anchor=\"middle\" x=\"475.85\" y=\"-144.8\" font-family=\"Times,serif\" font-size=\"14.00\">amod</text>\n</g>\n<!-- совсем (7) -->\n<g id=\"node10\" class=\"node\">\n<title>совсем (7)</title>\n<ellipse fill=\"none\" stroke=\"black\" cx=\"493.35\" cy=\"-18\" rx=\"50.09\" ry=\"18\"/>\n<text text-anchor=\"middle\" x=\"493.35\" y=\"-14.3\" font-family=\"Times,serif\" font-size=\"14.00\">совсем (7)</text>\n</g>\n<!-- неубедительный (8)&#45;&gt;совсем (7) -->\n<g id=\"edge9\" class=\"edge\">\n<title>неубедительный (8)&#45;&gt;совсем (7)</title>\n<path fill=\"none\" stroke=\"black\" d=\"M493.35,-86.8C493.35,-75.16 493.35,-59.55 493.35,-46.24\"/>\n<polygon fill=\"black\" stroke=\"black\" points=\"496.85,-46.18 493.35,-36.18 489.85,-46.18 496.85,-46.18\"/>\n<text text-anchor=\"middle\" x=\"515.85\" y=\"-57.8\" font-family=\"Times,serif\" font-size=\"14.00\">advmod</text>\n</g>\n</g>\n</svg>\n",
            "text/plain": [
              "<graphviz.graphs.Digraph at 0x7c54dc08f6d0>"
            ]
          },
          "metadata": {},
          "execution_count": 30
        }
      ],
      "source": [
        "draw_tree(taiga_tree)"
      ]
    },
    {
      "cell_type": "markdown",
      "metadata": {
        "id": "jU8n4urmqbul"
      },
      "source": [
        "Теперь можно переходить к расчету метрик"
      ]
    },
    {
      "cell_type": "markdown",
      "metadata": {
        "id": "VI1qm9bGqbuo"
      },
      "source": [
        "## Вычисление LAS и UAS\n",
        "\n",
        "Для этого набираем множества всех рёбер с метками и без и смотрим на размеры пересечений."
      ]
    },
    {
      "cell_type": "code",
      "execution_count": 31,
      "metadata": {
        "id": "fEetAmXx6wAM"
      },
      "outputs": [],
      "source": [
        "def edges_sets(tree):\n",
        "  \"\"\" Reading edges encoded as strings \"\"\"\n",
        "\n",
        "  edges_labeled = []\n",
        "  edges_unlabeled = []\n",
        "  queue = [Root(tree)]\n",
        "\n",
        "  while len(queue) > 0:\n",
        "    head = queue.pop()\n",
        "    head_label = head.token[\"form\"] + \" (%d)\" % head.token[\"id\"]\n",
        "    queue.extend(head.children)\n",
        "\n",
        "    for c in head.children:\n",
        "      c_label = c.token[\"form\"] + \" (%d)\" %  c.token[\"id\"]\n",
        "      edges_unlabeled.append((head_label, c_label))\n",
        "      edges_labeled.append((head_label, c_label, c.token[\"deprel\"]))\n",
        "\n",
        "  return set(edges_labeled), set(edges_unlabeled)"
      ]
    },
    {
      "cell_type": "code",
      "execution_count": 32,
      "metadata": {
        "colab": {
          "base_uri": "https://localhost:8080/",
          "height": 35
        },
        "id": "SCT4HgK_i6cU",
        "outputId": "3fad2514-46d5-4428-d449-f4e97e1e4095"
      },
      "outputs": [
        {
          "output_type": "execute_result",
          "data": {
            "text/plain": [
              "'LAS: 0.3000 UAS: 0.4000'"
            ],
            "application/vnd.google.colaboratory.intrinsic+json": {
              "type": "string"
            }
          },
          "metadata": {},
          "execution_count": 32
        }
      ],
      "source": [
        "def accuracy(gold, pred):\n",
        "  gold_labeled, gold_unlabeled = edges_sets(gold)\n",
        "  pred_labeled, pred_unlabeled = edges_sets(pred)\n",
        "\n",
        "  return len(gold_labeled.intersection(pred_labeled)) / len(gold_labeled), \\\n",
        "          len(gold_unlabeled.intersection(pred_unlabeled)) / len(gold_unlabeled)\n",
        "\n",
        "LAS, UAS = accuracy(str_tree, taiga_tree)\n",
        "\"LAS: %.4f UAS: %.4f\" % (LAS, UAS)"
      ]
    },
    {
      "cell_type": "markdown",
      "metadata": {
        "id": "XPsQ9gBtrKVL"
      },
      "source": [
        "Можно заметить, что в первом случае слово <code>башмачки</code> зависит от слова <code>порвались</code>, а во втором -- от слова <code>скалы</code>.\n",
        "Отдельно хотим напомнить, что таким образом корректно сравнивать парсеры только в том случае, когда токензация полностью совпадает."
      ]
    },
    {
      "cell_type": "markdown",
      "metadata": {
        "id": "n08jVsZwu_5R"
      },
      "source": [
        "## Вычисление глубины дерева"
      ]
    },
    {
      "cell_type": "markdown",
      "metadata": {
        "id": "B9LoRI_Hu_5R"
      },
      "source": [
        "Вычислим глубину дерева, например, для разбора модели taiga (ребро root не учитывается).\n",
        "\n",
        "Для этого также можно использовать, например, обход в ширину."
      ]
    },
    {
      "cell_type": "code",
      "execution_count": 33,
      "metadata": {
        "colab": {
          "base_uri": "https://localhost:8080/"
        },
        "id": "_WKDvvPxi6cX",
        "outputId": "1cbf6299-7321-4a44-ed3e-454990032d10"
      },
      "outputs": [
        {
          "output_type": "stream",
          "name": "stdout",
          "text": [
            "Глубина дерева:  3\n"
          ]
        }
      ],
      "source": [
        "depth = 0\n",
        "queue = [(taiga_tree, depth)]\n",
        "\n",
        "while len(queue) > 0:\n",
        "    head, depth = queue.pop(0)\n",
        "    queue.extend([(c, depth + 1) for c in head.children])\n",
        "    #print(\"checking\", head.token[\"form\"])\n",
        "\n",
        "print(\"Глубина дерева: \", depth)"
      ]
    },
    {
      "cell_type": "code",
      "execution_count": null,
      "metadata": {
        "id": "45zc-ojN5uph"
      },
      "outputs": [],
      "source": []
    }
  ],
  "metadata": {
    "colab": {
      "provenance": [],
      "toc_visible": true
    },
    "kernelspec": {
      "display_name": "Python 3",
      "language": "python",
      "name": "python3"
    },
    "language_info": {
      "codemirror_mode": {
        "name": "ipython",
        "version": 3
      },
      "file_extension": ".py",
      "mimetype": "text/x-python",
      "name": "python",
      "nbconvert_exporter": "python",
      "pygments_lexer": "ipython3",
      "version": "3.7.6"
    }
  },
  "nbformat": 4,
  "nbformat_minor": 0
}